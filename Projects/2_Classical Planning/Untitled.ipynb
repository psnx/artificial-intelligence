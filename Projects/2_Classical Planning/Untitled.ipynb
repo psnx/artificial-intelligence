{
 "cells": [
  {
   "cell_type": "markdown",
   "id": "c2c3e2bd",
   "metadata": {},
   "source": [
    "# AIND - Project 2 - Build a Forward-Planning Agend\n",
    "## Report"
   ]
  },
  {
   "cell_type": "markdown",
   "id": "81b6847f",
   "metadata": {},
   "source": [
    "### Environment\n",
    "The results were produced on a desktop computer with the following specification:\n",
    "OS: Ubuntu 20.04.2 LTS (64 bit)\n",
    "Memory: 23,4 GiB\n",
    "Processor: Intel Core i7-4790K CPU@4Ghz * 8\n",
    "GNU bash, version 5.0.17(1)-release (x86_64-pc-linux-gnu)\n",
    "Conda virutal environment: Python: 3.9.5\n",
    "### Obtaining the data:\n",
    "I the provided `run_search.py` was run with the following parameters:\n",
    "```bash \n",
    "$ python run_search.py -p 1 2 -s 1 2 3 4 5 6 7 8 9 10 11 > results.txt\n",
    "```\n",
    "The `results.txt` was processed to consolidate the data in a tabular format in an new file:\n",
    "```bash\n",
    "grep '^Solving*' -A 4 results | grep -v -e '^$' > result_summary.txt\n",
    "```\n"
   ]
  },
  {
   "cell_type": "code",
   "execution_count": 40,
   "id": "b6e56222",
   "metadata": {},
   "outputs": [
    {
     "name": "stdout",
     "output_type": "stream",
     "text": [
      "Result(problem='1', search='breadth_first_search', actions='20', exp='43', goal_tests='56', new_nodes='178')\n",
      "Result(problem='1', search='depth_first_graph_search', actions='20', exp='21', goal_tests='22', new_nodes='84')\n",
      "Result(problem='1', search='uniform_cost_search', actions='20', exp='60', goal_tests='62', new_nodes='240')\n",
      "Result(problem='1', search='greedy_best_first_graph_search with h_unmet_goals', actions='20', exp='7', goal_tests='9', new_nodes='29')\n",
      "Result(problem='1', search='greedy_best_first_graph_search with h_pg_levelsum', actions='20', exp='6', goal_tests='8', new_nodes='28')\n",
      "Result(problem='1', search='greedy_best_first_graph_search with h_pg_maxlevel', actions='20', exp='6', goal_tests='8', new_nodes='24')\n",
      "Result(problem='1', search='greedy_best_first_graph_search with h_pg_setlevel', actions='20', exp='6', goal_tests='8', new_nodes='28')\n",
      "Result(problem='1', search='astar_search with h_unmet_goals', actions='20', exp='50', goal_tests='52', new_nodes='206')\n",
      "Result(problem='1', search='astar_search with h_pg_levelsum', actions='20', exp='28', goal_tests='30', new_nodes='122')\n",
      "Result(problem='1', search='astar_search with h_pg_maxlevel', actions='20', exp='43', goal_tests='45', new_nodes='180')\n",
      "Result(problem='2', search='breadth_first_search', actions='72', exp='3343', goal_tests='4609', new_nodes='30503')\n",
      "Result(problem='2', search='depth_first_graph_search', actions='72', exp='624', goal_tests='625', new_nodes='5602')\n",
      "Result(problem='2', search='uniform_cost_search', actions='72', exp='5154', goal_tests='5156', new_nodes='46618')\n",
      "Result(problem='2', search='greedy_best_first_graph_search with h_unmet_goals', actions='72', exp='17', goal_tests='19', new_nodes='170')\n",
      "Result(problem='2', search='greedy_best_first_graph_search with h_pg_levelsum', actions='72', exp='9', goal_tests='11', new_nodes='86')\n",
      "Result(problem='2', search='greedy_best_first_graph_search with h_pg_maxlevel', actions='72', exp='27', goal_tests='29', new_nodes='249')\n",
      "Result(problem='2', search='greedy_best_first_graph_search with h_pg_setlevel', actions='72', exp='9', goal_tests='11', new_nodes='84')\n",
      "Result(problem='2', search='astar_search with h_unmet_goals', actions='72', exp='2467', goal_tests='2469', new_nodes='22522')\n",
      "Result(problem='2', search='astar_search with h_pg_levelsum', actions='72', exp='357', goal_tests='359', new_nodes='3426')\n",
      "Result(problem='2', search='astar_search with h_pg_maxlevel', actions='72', exp='2887', goal_tests='2889', new_nodes='26594')\n"
     ]
    }
   ],
   "source": [
    "import re\n",
    "import collections\n",
    "from pprint import pprint\n",
    "results = []\n",
    "Result = collections.namedtuple('Result',['problem', 'search', 'actions', 'exp', 'goal_tests', 'new_nodes'])\n",
    "idx = 0\n",
    "with open(\"result_summary.txt\", \"r\") as f:\n",
    "    lines = f.readlines()\n",
    "\n",
    "longlines = []\n",
    "for l in lines:\n",
    "    \n",
    "    match_problem = re.compile(r\"^Solving Air Cargo Problem (\\d).[a-z]+ ([a-z].+)...$\").match(l)\n",
    "    if match_problem:\n",
    "        current = match_problem.group(1)\n",
    "        search = match_problem.group(2)\n",
    "        continue\n",
    "    m_aegn = re.compile(r\"^\\s+(\\d+)\\s+(\\d+)\\s+(\\d+)\\s+(\\d+)\\s+$\").match(l)     \n",
    "    if m_aegn:\n",
    "        l = Result(current, search, m_aegn.group(1), m_aegn.group(2), m_aegn.group(3), m_aegn.group(4))\n",
    "        longlines.append(l)\n",
    "        \n",
    "\n",
    "for ln in longlines:\n",
    "    print (ln)"
   ]
  },
  {
   "cell_type": "code",
   "execution_count": null,
   "id": "139ca8a3",
   "metadata": {},
   "outputs": [],
   "source": []
  }
 ],
 "metadata": {
  "kernelspec": {
   "display_name": "Python 3 (ipykernel)",
   "language": "python",
   "name": "python3"
  },
  "language_info": {
   "codemirror_mode": {
    "name": "ipython",
    "version": 3
   },
   "file_extension": ".py",
   "mimetype": "text/x-python",
   "name": "python",
   "nbconvert_exporter": "python",
   "pygments_lexer": "ipython3",
   "version": "3.9.6"
  }
 },
 "nbformat": 4,
 "nbformat_minor": 5
}
